{
 "cells": [
  {
   "cell_type": "code",
   "execution_count": 54,
   "id": "precise-glenn",
   "metadata": {},
   "outputs": [],
   "source": [
    "import pandas as pd\n",
    "import numpy as np\n",
    "import matplotlib.pyplot as plt"
   ]
  },
  {
   "cell_type": "code",
   "execution_count": 3,
   "id": "moderate-verse",
   "metadata": {},
   "outputs": [],
   "source": [
    "data = pd.read_csv(\"EnergyDataset.txt\")"
   ]
  },
  {
   "cell_type": "code",
   "execution_count": 4,
   "id": "constitutional-learning",
   "metadata": {},
   "outputs": [
    {
     "data": {
      "text/html": [
       "<div>\n",
       "<style scoped>\n",
       "    .dataframe tbody tr th:only-of-type {\n",
       "        vertical-align: middle;\n",
       "    }\n",
       "\n",
       "    .dataframe tbody tr th {\n",
       "        vertical-align: top;\n",
       "    }\n",
       "\n",
       "    .dataframe thead th {\n",
       "        text-align: right;\n",
       "    }\n",
       "</style>\n",
       "<table border=\"1\" class=\"dataframe\">\n",
       "  <thead>\n",
       "    <tr style=\"text-align: right;\">\n",
       "      <th></th>\n",
       "      <th>datum</th>\n",
       "      <th>ura</th>\n",
       "      <th>regija</th>\n",
       "      <th>stavba</th>\n",
       "      <th>vrsta</th>\n",
       "      <th>povrsina</th>\n",
       "      <th>leto</th>\n",
       "      <th>temp_zraka</th>\n",
       "      <th>temp_rosisca</th>\n",
       "      <th>oblacnost</th>\n",
       "      <th>padavine</th>\n",
       "      <th>pritisk</th>\n",
       "      <th>smer_vetra</th>\n",
       "      <th>hitrost_vetra</th>\n",
       "      <th>poraba</th>\n",
       "      <th>norm_poraba</th>\n",
       "    </tr>\n",
       "  </thead>\n",
       "  <tbody>\n",
       "    <tr>\n",
       "      <th>0</th>\n",
       "      <td>2015-12-31</td>\n",
       "      <td>23</td>\n",
       "      <td>zahodna</td>\n",
       "      <td>1</td>\n",
       "      <td>javno_storitvena</td>\n",
       "      <td>4058.095943</td>\n",
       "      <td>2007</td>\n",
       "      <td>9.4</td>\n",
       "      <td>-6.1</td>\n",
       "      <td>0</td>\n",
       "      <td>0</td>\n",
       "      <td>1017.4</td>\n",
       "      <td>0</td>\n",
       "      <td>0.0</td>\n",
       "      <td>130.91</td>\n",
       "      <td>ZELOVISOKA</td>\n",
       "    </tr>\n",
       "    <tr>\n",
       "      <th>1</th>\n",
       "      <td>2015-12-31</td>\n",
       "      <td>23</td>\n",
       "      <td>zahodna</td>\n",
       "      <td>2</td>\n",
       "      <td>izobrazevalna</td>\n",
       "      <td>9181.510587</td>\n",
       "      <td>1968</td>\n",
       "      <td>9.4</td>\n",
       "      <td>-6.1</td>\n",
       "      <td>0</td>\n",
       "      <td>0</td>\n",
       "      <td>1017.4</td>\n",
       "      <td>0</td>\n",
       "      <td>0.0</td>\n",
       "      <td>121.10</td>\n",
       "      <td>SREDNJA</td>\n",
       "    </tr>\n",
       "    <tr>\n",
       "      <th>2</th>\n",
       "      <td>2015-12-31</td>\n",
       "      <td>23</td>\n",
       "      <td>zahodna</td>\n",
       "      <td>3</td>\n",
       "      <td>izobrazevalna</td>\n",
       "      <td>6698.492106</td>\n",
       "      <td>1970</td>\n",
       "      <td>9.4</td>\n",
       "      <td>-6.1</td>\n",
       "      <td>0</td>\n",
       "      <td>0</td>\n",
       "      <td>1017.4</td>\n",
       "      <td>0</td>\n",
       "      <td>0.0</td>\n",
       "      <td>83.89</td>\n",
       "      <td>SREDNJA</td>\n",
       "    </tr>\n",
       "    <tr>\n",
       "      <th>3</th>\n",
       "      <td>2015-12-31</td>\n",
       "      <td>23</td>\n",
       "      <td>zahodna</td>\n",
       "      <td>4</td>\n",
       "      <td>stanovanjska</td>\n",
       "      <td>51394.868630</td>\n",
       "      <td>2009</td>\n",
       "      <td>9.4</td>\n",
       "      <td>-6.1</td>\n",
       "      <td>0</td>\n",
       "      <td>0</td>\n",
       "      <td>1017.4</td>\n",
       "      <td>0</td>\n",
       "      <td>0.0</td>\n",
       "      <td>294.92</td>\n",
       "      <td>NIZKA</td>\n",
       "    </tr>\n",
       "    <tr>\n",
       "      <th>4</th>\n",
       "      <td>2015-12-31</td>\n",
       "      <td>23</td>\n",
       "      <td>zahodna</td>\n",
       "      <td>5</td>\n",
       "      <td>stanovanjska</td>\n",
       "      <td>8019.665669</td>\n",
       "      <td>1956</td>\n",
       "      <td>9.4</td>\n",
       "      <td>-6.1</td>\n",
       "      <td>0</td>\n",
       "      <td>0</td>\n",
       "      <td>1017.4</td>\n",
       "      <td>0</td>\n",
       "      <td>0.0</td>\n",
       "      <td>58.41</td>\n",
       "      <td>NIZKA</td>\n",
       "    </tr>\n",
       "  </tbody>\n",
       "</table>\n",
       "</div>"
      ],
      "text/plain": [
       "        datum  ura   regija  stavba             vrsta      povrsina  leto  \\\n",
       "0  2015-12-31   23  zahodna       1  javno_storitvena   4058.095943  2007   \n",
       "1  2015-12-31   23  zahodna       2     izobrazevalna   9181.510587  1968   \n",
       "2  2015-12-31   23  zahodna       3     izobrazevalna   6698.492106  1970   \n",
       "3  2015-12-31   23  zahodna       4      stanovanjska  51394.868630  2009   \n",
       "4  2015-12-31   23  zahodna       5      stanovanjska   8019.665669  1956   \n",
       "\n",
       "   temp_zraka  temp_rosisca  oblacnost  padavine  pritisk  smer_vetra  \\\n",
       "0         9.4          -6.1          0         0   1017.4           0   \n",
       "1         9.4          -6.1          0         0   1017.4           0   \n",
       "2         9.4          -6.1          0         0   1017.4           0   \n",
       "3         9.4          -6.1          0         0   1017.4           0   \n",
       "4         9.4          -6.1          0         0   1017.4           0   \n",
       "\n",
       "   hitrost_vetra  poraba norm_poraba  \n",
       "0            0.0  130.91  ZELOVISOKA  \n",
       "1            0.0  121.10     SREDNJA  \n",
       "2            0.0   83.89     SREDNJA  \n",
       "3            0.0  294.92       NIZKA  \n",
       "4            0.0   58.41       NIZKA  "
      ]
     },
     "execution_count": 4,
     "metadata": {},
     "output_type": "execute_result"
    }
   ],
   "source": [
    "data.head()"
   ]
  },
  {
   "cell_type": "code",
   "execution_count": 5,
   "id": "according-munich",
   "metadata": {},
   "outputs": [
    {
     "data": {
      "text/html": [
       "<div>\n",
       "<style scoped>\n",
       "    .dataframe tbody tr th:only-of-type {\n",
       "        vertical-align: middle;\n",
       "    }\n",
       "\n",
       "    .dataframe tbody tr th {\n",
       "        vertical-align: top;\n",
       "    }\n",
       "\n",
       "    .dataframe thead th {\n",
       "        text-align: right;\n",
       "    }\n",
       "</style>\n",
       "<table border=\"1\" class=\"dataframe\">\n",
       "  <thead>\n",
       "    <tr style=\"text-align: right;\">\n",
       "      <th></th>\n",
       "      <th>ura</th>\n",
       "      <th>stavba</th>\n",
       "      <th>povrsina</th>\n",
       "      <th>leto</th>\n",
       "      <th>temp_zraka</th>\n",
       "      <th>temp_rosisca</th>\n",
       "      <th>oblacnost</th>\n",
       "      <th>padavine</th>\n",
       "      <th>pritisk</th>\n",
       "      <th>smer_vetra</th>\n",
       "      <th>hitrost_vetra</th>\n",
       "      <th>poraba</th>\n",
       "    </tr>\n",
       "  </thead>\n",
       "  <tbody>\n",
       "    <tr>\n",
       "      <th>count</th>\n",
       "      <td>206785.000000</td>\n",
       "      <td>206785.000000</td>\n",
       "      <td>206785.000000</td>\n",
       "      <td>206785.000000</td>\n",
       "      <td>206785.000000</td>\n",
       "      <td>206785.000000</td>\n",
       "      <td>206785.000000</td>\n",
       "      <td>206785.000000</td>\n",
       "      <td>206785.000000</td>\n",
       "      <td>206785.000000</td>\n",
       "      <td>206785.000000</td>\n",
       "      <td>206785.000000</td>\n",
       "    </tr>\n",
       "    <tr>\n",
       "      <th>mean</th>\n",
       "      <td>13.976454</td>\n",
       "      <td>86.161559</td>\n",
       "      <td>10575.351320</td>\n",
       "      <td>1968.146674</td>\n",
       "      <td>18.907885</td>\n",
       "      <td>3.876773</td>\n",
       "      <td>3.396784</td>\n",
       "      <td>0.263360</td>\n",
       "      <td>1015.082407</td>\n",
       "      <td>170.313756</td>\n",
       "      <td>3.432172</td>\n",
       "      <td>173.571684</td>\n",
       "    </tr>\n",
       "    <tr>\n",
       "      <th>std</th>\n",
       "      <td>6.900545</td>\n",
       "      <td>55.470688</td>\n",
       "      <td>11848.334423</td>\n",
       "      <td>30.842985</td>\n",
       "      <td>11.462381</td>\n",
       "      <td>9.093608</td>\n",
       "      <td>2.722105</td>\n",
       "      <td>2.663209</td>\n",
       "      <td>7.222709</td>\n",
       "      <td>109.224139</td>\n",
       "      <td>2.278090</td>\n",
       "      <td>251.900302</td>\n",
       "    </tr>\n",
       "    <tr>\n",
       "      <th>min</th>\n",
       "      <td>5.000000</td>\n",
       "      <td>1.000000</td>\n",
       "      <td>329.341135</td>\n",
       "      <td>1900.000000</td>\n",
       "      <td>-10.000000</td>\n",
       "      <td>-22.800000</td>\n",
       "      <td>0.000000</td>\n",
       "      <td>-1.000000</td>\n",
       "      <td>991.900000</td>\n",
       "      <td>0.000000</td>\n",
       "      <td>0.000000</td>\n",
       "      <td>0.000000</td>\n",
       "    </tr>\n",
       "    <tr>\n",
       "      <th>25%</th>\n",
       "      <td>5.000000</td>\n",
       "      <td>39.000000</td>\n",
       "      <td>3445.121949</td>\n",
       "      <td>1949.000000</td>\n",
       "      <td>10.000000</td>\n",
       "      <td>-2.800000</td>\n",
       "      <td>0.000000</td>\n",
       "      <td>0.000000</td>\n",
       "      <td>1009.800000</td>\n",
       "      <td>90.000000</td>\n",
       "      <td>2.100000</td>\n",
       "      <td>38.220000</td>\n",
       "    </tr>\n",
       "    <tr>\n",
       "      <th>50%</th>\n",
       "      <td>11.000000</td>\n",
       "      <td>77.000000</td>\n",
       "      <td>6619.152944</td>\n",
       "      <td>1968.000000</td>\n",
       "      <td>19.400000</td>\n",
       "      <td>2.800000</td>\n",
       "      <td>4.000000</td>\n",
       "      <td>0.000000</td>\n",
       "      <td>1014.100000</td>\n",
       "      <td>170.000000</td>\n",
       "      <td>3.100000</td>\n",
       "      <td>92.700000</td>\n",
       "    </tr>\n",
       "    <tr>\n",
       "      <th>75%</th>\n",
       "      <td>23.000000</td>\n",
       "      <td>133.000000</td>\n",
       "      <td>12733.749695</td>\n",
       "      <td>1993.000000</td>\n",
       "      <td>27.800000</td>\n",
       "      <td>10.600000</td>\n",
       "      <td>6.000000</td>\n",
       "      <td>0.000000</td>\n",
       "      <td>1019.900000</td>\n",
       "      <td>270.000000</td>\n",
       "      <td>4.600000</td>\n",
       "      <td>185.610000</td>\n",
       "    </tr>\n",
       "    <tr>\n",
       "      <th>max</th>\n",
       "      <td>23.000000</td>\n",
       "      <td>193.000000</td>\n",
       "      <td>79000.437662</td>\n",
       "      <td>2017.000000</td>\n",
       "      <td>46.100000</td>\n",
       "      <td>25.000000</td>\n",
       "      <td>9.000000</td>\n",
       "      <td>56.000000</td>\n",
       "      <td>1040.900000</td>\n",
       "      <td>360.000000</td>\n",
       "      <td>14.900000</td>\n",
       "      <td>3095.440000</td>\n",
       "    </tr>\n",
       "  </tbody>\n",
       "</table>\n",
       "</div>"
      ],
      "text/plain": [
       "                 ura         stavba       povrsina           leto  \\\n",
       "count  206785.000000  206785.000000  206785.000000  206785.000000   \n",
       "mean       13.976454      86.161559   10575.351320    1968.146674   \n",
       "std         6.900545      55.470688   11848.334423      30.842985   \n",
       "min         5.000000       1.000000     329.341135    1900.000000   \n",
       "25%         5.000000      39.000000    3445.121949    1949.000000   \n",
       "50%        11.000000      77.000000    6619.152944    1968.000000   \n",
       "75%        23.000000     133.000000   12733.749695    1993.000000   \n",
       "max        23.000000     193.000000   79000.437662    2017.000000   \n",
       "\n",
       "          temp_zraka   temp_rosisca      oblacnost       padavine  \\\n",
       "count  206785.000000  206785.000000  206785.000000  206785.000000   \n",
       "mean       18.907885       3.876773       3.396784       0.263360   \n",
       "std        11.462381       9.093608       2.722105       2.663209   \n",
       "min       -10.000000     -22.800000       0.000000      -1.000000   \n",
       "25%        10.000000      -2.800000       0.000000       0.000000   \n",
       "50%        19.400000       2.800000       4.000000       0.000000   \n",
       "75%        27.800000      10.600000       6.000000       0.000000   \n",
       "max        46.100000      25.000000       9.000000      56.000000   \n",
       "\n",
       "             pritisk     smer_vetra  hitrost_vetra         poraba  \n",
       "count  206785.000000  206785.000000  206785.000000  206785.000000  \n",
       "mean     1015.082407     170.313756       3.432172     173.571684  \n",
       "std         7.222709     109.224139       2.278090     251.900302  \n",
       "min       991.900000       0.000000       0.000000       0.000000  \n",
       "25%      1009.800000      90.000000       2.100000      38.220000  \n",
       "50%      1014.100000     170.000000       3.100000      92.700000  \n",
       "75%      1019.900000     270.000000       4.600000     185.610000  \n",
       "max      1040.900000     360.000000      14.900000    3095.440000  "
      ]
     },
     "execution_count": 5,
     "metadata": {},
     "output_type": "execute_result"
    }
   ],
   "source": [
    "data.describe()"
   ]
  },
  {
   "cell_type": "code",
   "execution_count": 12,
   "id": "independent-mouth",
   "metadata": {},
   "outputs": [
    {
     "name": "stdout",
     "output_type": "stream",
     "text": [
      "<class 'pandas.core.frame.DataFrame'>\n",
      "RangeIndex: 206785 entries, 0 to 206784\n",
      "Data columns (total 16 columns):\n",
      " #   Column         Non-Null Count   Dtype         \n",
      "---  ------         --------------   -----         \n",
      " 0   datum          206785 non-null  datetime64[ns]\n",
      " 1   ura            206785 non-null  int64         \n",
      " 2   regija         206785 non-null  object        \n",
      " 3   stavba         206785 non-null  int64         \n",
      " 4   vrsta          206785 non-null  object        \n",
      " 5   povrsina       206785 non-null  float64       \n",
      " 6   leto           206785 non-null  int64         \n",
      " 7   temp_zraka     206785 non-null  float64       \n",
      " 8   temp_rosisca   206785 non-null  float64       \n",
      " 9   oblacnost      206785 non-null  int64         \n",
      " 10  padavine       206785 non-null  int64         \n",
      " 11  pritisk        206785 non-null  float64       \n",
      " 12  smer_vetra     206785 non-null  int64         \n",
      " 13  hitrost_vetra  206785 non-null  float64       \n",
      " 14  poraba         206785 non-null  float64       \n",
      " 15  norm_poraba    206785 non-null  object        \n",
      "dtypes: datetime64[ns](1), float64(6), int64(6), object(3)\n",
      "memory usage: 25.2+ MB\n"
     ]
    }
   ],
   "source": [
    "data.info()"
   ]
  },
  {
   "cell_type": "code",
   "execution_count": 8,
   "id": "simple-cover",
   "metadata": {},
   "outputs": [
    {
     "data": {
      "text/plain": [
       "(206785, 16)"
      ]
     },
     "execution_count": 8,
     "metadata": {},
     "output_type": "execute_result"
    }
   ],
   "source": [
    "data.shape"
   ]
  },
  {
   "cell_type": "code",
   "execution_count": 11,
   "id": "equal-victory",
   "metadata": {},
   "outputs": [],
   "source": [
    "data.datum = pd.to_datetime(data.datum)"
   ]
  },
  {
   "cell_type": "markdown",
   "id": "second-right",
   "metadata": {},
   "source": [
    "### Adding new attributes\n",
    "**Add weekend**"
   ]
  },
  {
   "cell_type": "code",
   "execution_count": 14,
   "id": "completed-yemen",
   "metadata": {},
   "outputs": [],
   "source": [
    "data[\"Weekend\"] = data.datum.dt.weekday >= 5"
   ]
  },
  {
   "cell_type": "markdown",
   "id": "manufactured-round",
   "metadata": {},
   "source": [
    "**Add season**"
   ]
  },
  {
   "cell_type": "code",
   "execution_count": 41,
   "id": "native-exercise",
   "metadata": {},
   "outputs": [
    {
     "name": "stderr",
     "output_type": "stream",
     "text": [
      "c:\\users\\username1999\\miniconda3\\lib\\site-packages\\ipykernel_launcher.py:1: SettingWithCopyWarning: \n",
      "A value is trying to be set on a copy of a slice from a DataFrame\n",
      "\n",
      "See the caveats in the documentation: https://pandas.pydata.org/pandas-docs/stable/user_guide/indexing.html#returning-a-view-versus-a-copy\n",
      "  \"\"\"Entry point for launching an IPython kernel.\n",
      "c:\\users\\username1999\\miniconda3\\lib\\site-packages\\ipykernel_launcher.py:2: SettingWithCopyWarning: \n",
      "A value is trying to be set on a copy of a slice from a DataFrame\n",
      "\n",
      "See the caveats in the documentation: https://pandas.pydata.org/pandas-docs/stable/user_guide/indexing.html#returning-a-view-versus-a-copy\n",
      "  \n",
      "c:\\users\\username1999\\miniconda3\\lib\\site-packages\\ipykernel_launcher.py:3: SettingWithCopyWarning: \n",
      "A value is trying to be set on a copy of a slice from a DataFrame\n",
      "\n",
      "See the caveats in the documentation: https://pandas.pydata.org/pandas-docs/stable/user_guide/indexing.html#returning-a-view-versus-a-copy\n",
      "  This is separate from the ipykernel package so we can avoid doing imports until\n",
      "c:\\users\\username1999\\miniconda3\\lib\\site-packages\\ipykernel_launcher.py:4: SettingWithCopyWarning: \n",
      "A value is trying to be set on a copy of a slice from a DataFrame\n",
      "\n",
      "See the caveats in the documentation: https://pandas.pydata.org/pandas-docs/stable/user_guide/indexing.html#returning-a-view-versus-a-copy\n",
      "  after removing the cwd from sys.path.\n",
      "c:\\users\\username1999\\miniconda3\\lib\\site-packages\\ipykernel_launcher.py:5: SettingWithCopyWarning: \n",
      "A value is trying to be set on a copy of a slice from a DataFrame\n",
      "\n",
      "See the caveats in the documentation: https://pandas.pydata.org/pandas-docs/stable/user_guide/indexing.html#returning-a-view-versus-a-copy\n",
      "  \"\"\"\n"
     ]
    }
   ],
   "source": [
    "data[\"season\"][(data['datum'] >= '2015-12-31') & (data['datum'] < '2016-3-20')] = \"winter\"\n",
    "data[\"season\"][(data['datum'] >= '2016-12-21')] = \"winter\"\n",
    "data[\"season\"][(data['datum'] >= '2016-3-20') & (data['datum'] < '2016-6-20')] = \"spring\"\n",
    "data[\"season\"][(data['datum'] >= '2016-6-20') & (data['datum'] < '2016-9-22')] = \"summer\"\n",
    "data[\"season\"][(data['datum'] >= '2016-9-22') & (data['datum'] < '2016-12-21')] = \"autumn\""
   ]
  },
  {
   "cell_type": "code",
   "execution_count": 42,
   "id": "technological-bosnia",
   "metadata": {},
   "outputs": [
    {
     "data": {
      "text/plain": [
       "winter    65950\n",
       "autumn    56480\n",
       "summer    44512\n",
       "spring    39843\n",
       "Name: season, dtype: int64"
      ]
     },
     "execution_count": 42,
     "metadata": {},
     "output_type": "execute_result"
    }
   ],
   "source": [
    "data[\"season\"].value_counts()"
   ]
  },
  {
   "cell_type": "markdown",
   "id": "hungarian-keyboard",
   "metadata": {},
   "source": [
    "**Add month**"
   ]
  },
  {
   "cell_type": "code",
   "execution_count": 43,
   "id": "wrapped-drama",
   "metadata": {},
   "outputs": [],
   "source": [
    "data['month'] = pd.DatetimeIndex(data['datum']).month"
   ]
  },
  {
   "cell_type": "markdown",
   "id": "personal-heater",
   "metadata": {},
   "source": [
    "### Visualization"
   ]
  },
  {
   "cell_type": "code",
   "execution_count": 48,
   "id": "anonymous-excellence",
   "metadata": {},
   "outputs": [],
   "source": [
    "averageByMonth = pd.DataFrame(data.groupby([\"month\"]).mean()[\"poraba\"])"
   ]
  },
  {
   "cell_type": "code",
   "execution_count": 79,
   "id": "rapid-lucas",
   "metadata": {},
   "outputs": [
    {
     "data": {
      "text/plain": [
       "Text(0, 0.5, 'Consumption')"
      ]
     },
     "execution_count": 79,
     "metadata": {},
     "output_type": "execute_result"
    },
    {
     "data": {
      "image/png": "[encoded data removed]",
      "text/plain": [
       "<Figure size 1800x720 with 1 Axes>"
      ]
     },
     "metadata": {
      "needs_background": "light"
     },
     "output_type": "display_data"
    }
   ],
   "source": [
    "plot = averageByMonth.plot(kind=\"bar\", figsize=(25,10), fontsize=12)\n",
    "for p in plot.patches:\n",
    "    plot.annotate(str(round(p.get_height(),2)), (p.get_x() * 1.005, p.get_height() * 1.005), weight='bold', fontsize=12)\n",
    "plt.title(\"Average energy consumption by month\")\n",
    "plt.xlabel(\"Month\")\n",
    "plt.ylabel(\"Consumption\")"
   ]
  },
  {
   "cell_type": "code",
   "execution_count": null,
   "id": "descending-damage",
   "metadata": {},
   "outputs": [],
   "source": []
  }
 ],
 "metadata": {
  "kernelspec": {
   "display_name": "Python 3",
   "language": "python",
   "name": "python3"
  },
  "language_info": {
   "codemirror_mode": {
    "name": "ipython",
    "version": 3
   },
   "file_extension": ".py",
   "mimetype": "text/x-python",
   "name": "python",
   "nbconvert_exporter": "python",
   "pygments_lexer": "ipython3",
   "version": "3.7.4"
  }
 },
 "nbformat": 4,
 "nbformat_minor": 5
}
